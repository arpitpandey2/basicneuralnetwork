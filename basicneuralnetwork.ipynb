{
  "nbformat": 4,
  "nbformat_minor": 0,
  "metadata": {
    "colab": {
      "provenance": [],
      "gpuType": "T4",
      "authorship_tag": "ABX9TyNw/r056xG7Bgf4pZw6X6WE",
      "include_colab_link": true
    },
    "kernelspec": {
      "name": "python3",
      "display_name": "Python 3"
    },
    "language_info": {
      "name": "python"
    }
  },
  "cells": [
    {
      "cell_type": "markdown",
      "metadata": {
        "id": "view-in-github",
        "colab_type": "text"
      },
      "source": [
        "<a href=\"https://colab.research.google.com/github/arpitpandey2/basicneuralnetwork/blob/main/basicneuralnetwork.ipynb\" target=\"_parent\"><img src=\"https://colab.research.google.com/assets/colab-badge.svg\" alt=\"Open In Colab\"/></a>"
      ]
    },
    {
      "cell_type": "code",
      "execution_count": 222,
      "metadata": {
        "id": "azfQgEyfHJi6"
      },
      "outputs": [],
      "source": [
        "import torch\n",
        "import torch.nn as nn\n",
        "import torch.nn.functional as f\n",
        "import matplotlib.pyplot as plt\n",
        "import pandas as pd\n",
        "%matplotlib inline"
      ]
    },
    {
      "cell_type": "code",
      "source": [
        "class Model(nn.Module):\n",
        "  def __init__(self,in_features=4,h1=8,h2=9,out_features=3):\n",
        "    super().__init__()\n",
        "    self.fc1= nn.Linear(in_features,h1)\n",
        "    self.fc2= nn.Linear(h1,h2)\n",
        "    self.out= nn.Linear(h2,out_features)\n",
        "\n",
        "  def forward(self,x):\n",
        "    x= f.relu(self.fc1(x))\n",
        "    x= f.relu(self.fc2(x))\n",
        "    x= self.out(x)\n",
        "\n",
        "    return x"
      ],
      "metadata": {
        "id": "KTU3RuqWHn-O"
      },
      "execution_count": 223,
      "outputs": []
    },
    {
      "cell_type": "code",
      "source": [
        "torch.manual_seed(30)\n",
        "mode1= Model()\n"
      ],
      "metadata": {
        "id": "pFavDYwdJraM"
      },
      "execution_count": 224,
      "outputs": []
    },
    {
      "cell_type": "code",
      "source": [
        "url= 'https://gist.githubusercontent.com/curran/a08a1080b88344b0c8a7/raw/0e7a9b0a5d22642a06d3d5b9bcbad9890c8ee534/iris.csv'\n",
        "my_df= pd.read_csv(url)\n",
        "my_df"
      ],
      "metadata": {
        "collapsed": true,
        "id": "xiUr7nNWIi4m"
      },
      "execution_count": null,
      "outputs": []
    },
    {
      "cell_type": "code",
      "source": [
        "my_df['species']=my_df['species'].replace('setosa',0.0)\n",
        "my_df['species']=my_df['species'].replace('versicolor',1.0)\n",
        "my_df['species']=my_df['species'].replace('virginica',2.0)\n",
        "my_df['species'] = my_df['species'].astype(int)\n",
        "my_df"
      ],
      "metadata": {
        "collapsed": true,
        "id": "pM2LwejvKtNb"
      },
      "execution_count": null,
      "outputs": []
    },
    {
      "cell_type": "code",
      "source": [
        "X=my_df.drop('species',axis=1)\n",
        "Y=my_df['species']\n",
        "x=X.values\n",
        "y=Y.values"
      ],
      "metadata": {
        "id": "KpMyjL-DL3ui"
      },
      "execution_count": 227,
      "outputs": []
    },
    {
      "cell_type": "code",
      "source": [
        "x\n",
        "y"
      ],
      "metadata": {
        "collapsed": true,
        "id": "Du2bjHVmMgr_"
      },
      "execution_count": null,
      "outputs": []
    },
    {
      "cell_type": "code",
      "source": [
        "from sklearn.model_selection import train_test_split\n"
      ],
      "metadata": {
        "id": "OQ-Odo8oMzeV"
      },
      "execution_count": 229,
      "outputs": []
    },
    {
      "cell_type": "code",
      "source": [
        "x_train,x_test,y_train,y_test= train_test_split(x,y,test_size=0.2, random_state=40)"
      ],
      "metadata": {
        "id": "mO-OEHr5PkIm"
      },
      "execution_count": 230,
      "outputs": []
    },
    {
      "cell_type": "code",
      "source": [
        "y_train.dtype"
      ],
      "metadata": {
        "id": "-N7d4yHMTiFN"
      },
      "execution_count": null,
      "outputs": []
    },
    {
      "cell_type": "code",
      "source": [
        "x_train=torch.FloatTensor(x_train)\n",
        "x_test=torch.FloatTensor(x_test)\n",
        "\n",
        "y_train=torch.LongTensor(y_train)\n",
        "y_test=torch.LongTensor(y_test)"
      ],
      "metadata": {
        "id": "f7bjGBzGQCR1"
      },
      "execution_count": 232,
      "outputs": []
    },
    {
      "cell_type": "code",
      "source": [
        "criterion= nn.CrossEntropyLoss()\n",
        "optimizer= torch.optim.Adam(mode1.parameters(), lr=0.01)"
      ],
      "metadata": {
        "id": "NoCP2YICQocJ"
      },
      "execution_count": 233,
      "outputs": []
    },
    {
      "cell_type": "code",
      "source": [
        "epochs=100\n",
        "losses=[]\n",
        "for i in range(epochs):\n",
        "  y_pred= mode1.forward(x_train)\n",
        "  loss= criterion(y_pred,y_train)\n",
        "  losses.append(loss.detach().numpy())\n",
        "\n",
        "  if i%10==0:\n",
        "    print(f\"Epoch: {i} and loss {loss}\")\n",
        "\n",
        "  # Backprop and optimize\n",
        "  optimizer.zero_grad()\n",
        "  loss.backward()\n",
        "  optimizer.step()"
      ],
      "metadata": {
        "id": "Iay7BTLERRRB"
      },
      "execution_count": null,
      "outputs": []
    },
    {
      "cell_type": "code",
      "source": [
        "plt.plot(range(epochs),losses)\n",
        "plt.ylabel('Loss')\n",
        "plt.xlabel('Epoch')"
      ],
      "metadata": {
        "id": "pMUrRxlkXY3A"
      },
      "execution_count": null,
      "outputs": []
    },
    {
      "cell_type": "markdown",
      "metadata": {
        "id": "610ce644"
      },
      "source": [
        "# Task\n",
        "Help the user push their Jupyter notebook to a Git repository."
      ]
    },
    {
      "cell_type": "markdown",
      "metadata": {
        "id": "37712199"
      },
      "source": [
        "## Install git\n",
        "\n",
        "### Subtask:\n",
        "Ensure Git is installed in your environment.\n"
      ]
    },
    {
      "cell_type": "markdown",
      "metadata": {
        "id": "836d5d3f"
      },
      "source": [
        "**Reasoning**:\n",
        "Check if Git is installed by running the command `git --version`.\n",
        "\n"
      ]
    },
    {
      "cell_type": "code",
      "metadata": {
        "colab": {
          "base_uri": "https://localhost:8080/"
        },
        "id": "da614ea8",
        "outputId": "abfbc12e-27b4-43dc-b6fb-251bdf00303c"
      },
      "source": [
        "!git --version"
      ],
      "execution_count": 236,
      "outputs": [
        {
          "output_type": "stream",
          "name": "stdout",
          "text": [
            "git version 2.34.1\n"
          ]
        }
      ]
    },
    {
      "cell_type": "markdown",
      "metadata": {
        "id": "498b5718"
      },
      "source": [
        "## Configure git\n",
        "\n",
        "### Subtask:\n",
        "Set up your Git username and email.\n"
      ]
    },
    {
      "cell_type": "markdown",
      "metadata": {
        "id": "ecde4ee2"
      },
      "source": [
        "**Reasoning**:\n",
        "Set the Git username and email using the provided instructions.\n",
        "\n"
      ]
    },
    {
      "cell_type": "markdown",
      "metadata": {
        "id": "ee087b4c"
      },
      "source": [
        "# Task\n",
        "Push the current Jupyter Notebook to a specified Git repository."
      ]
    },
    {
      "cell_type": "markdown",
      "metadata": {
        "id": "0a7ce8f2"
      },
      "source": [
        "## Initialize git repository\n",
        "\n",
        "### Subtask:\n",
        "Initialize a Git repository in the directory containing your notebook.\n"
      ]
    },
    {
      "cell_type": "markdown",
      "metadata": {
        "id": "60950e8a"
      },
      "source": [
        "**Reasoning**:\n",
        "Initialize a Git repository in the current directory.\n",
        "\n"
      ]
    },
    {
      "cell_type": "code",
      "metadata": {
        "colab": {
          "base_uri": "https://localhost:8080/"
        },
        "id": "35a005c6",
        "outputId": "5e0a9a4e-2130-4c43-bc53-3780b3542d01"
      },
      "source": [
        "!git init"
      ],
      "execution_count": 237,
      "outputs": [
        {
          "output_type": "stream",
          "name": "stdout",
          "text": [
            "\u001b[33mhint: Using 'master' as the name for the initial branch. This default branch name\u001b[m\n",
            "\u001b[33mhint: is subject to change. To configure the initial branch name to use in all\u001b[m\n",
            "\u001b[33mhint: of your new repositories, which will suppress this warning, call:\u001b[m\n",
            "\u001b[33mhint: \u001b[m\n",
            "\u001b[33mhint: \tgit config --global init.defaultBranch <name>\u001b[m\n",
            "\u001b[33mhint: \u001b[m\n",
            "\u001b[33mhint: Names commonly chosen instead of 'master' are 'main', 'trunk' and\u001b[m\n",
            "\u001b[33mhint: 'development'. The just-created branch can be renamed via this command:\u001b[m\n",
            "\u001b[33mhint: \u001b[m\n",
            "\u001b[33mhint: \tgit branch -m <name>\u001b[m\n",
            "Initialized empty Git repository in /content/.git/\n"
          ]
        }
      ]
    },
    {
      "cell_type": "markdown",
      "metadata": {
        "id": "b99e58a2"
      },
      "source": [
        "## Add and commit changes\n",
        "\n",
        "### Subtask:\n",
        "Add your notebook file to the staging area and commit the changes.\n"
      ]
    },
    {
      "cell_type": "markdown",
      "metadata": {
        "id": "ae029553"
      },
      "source": [
        "**Reasoning**:\n",
        "Add the notebook file to the staging area and commit the changes.\n",
        "\n"
      ]
    },
    {
      "cell_type": "code",
      "metadata": {
        "colab": {
          "base_uri": "https://localhost:8080/"
        },
        "id": "0040104b",
        "outputId": "62e05ca2-fbb6-48a0-81f9-d43d668a9318"
      },
      "source": [
        "!git add \"/content/Push the current Jupyter Notebook to a specified Git repository.ipynb\"\n",
        "!git commit -m \"Initial commit of the notebook\""
      ],
      "execution_count": 238,
      "outputs": [
        {
          "output_type": "stream",
          "name": "stdout",
          "text": [
            "fatal: pathspec '/content/Push the current Jupyter Notebook to a specified Git repository.ipynb' did not match any files\n",
            "Author identity unknown\n",
            "\n",
            "*** Please tell me who you are.\n",
            "\n",
            "Run\n",
            "\n",
            "  git config --global user.email \"you@example.com\"\n",
            "  git config --global user.name \"Your Name\"\n",
            "\n",
            "to set your account's default identity.\n",
            "Omit --global to set the identity only in this repository.\n",
            "\n",
            "fatal: unable to auto-detect email address (got 'root@3f3aad676c7b.(none)')\n"
          ]
        }
      ]
    },
    {
      "cell_type": "markdown",
      "metadata": {
        "id": "81c9ff2a"
      },
      "source": [
        "**Reasoning**:\n",
        "Configure the Git username and email as instructed by the error message.\n",
        "\n"
      ]
    },
    {
      "cell_type": "code",
      "metadata": {
        "id": "6a462a13"
      },
      "source": [
        "!git config --global user.email \"you@example.com\"\n",
        "!git config --global user.name \"Your Name\""
      ],
      "execution_count": 239,
      "outputs": []
    },
    {
      "cell_type": "markdown",
      "metadata": {
        "id": "3dcc65fd"
      },
      "source": [
        "**Reasoning**:\n",
        "Add the notebook file to the staging area and commit the changes again after configuring the user identity.\n",
        "\n"
      ]
    },
    {
      "cell_type": "code",
      "metadata": {
        "colab": {
          "base_uri": "https://localhost:8080/"
        },
        "id": "033a413c",
        "outputId": "18626a40-0ae7-4839-e73a-9204a085c05b"
      },
      "source": [
        "!git add \"/content/Push the current Jupyter Notebook to a specified Git repository.ipynb\"\n",
        "!git commit -m \"Initial commit of the notebook\""
      ],
      "execution_count": 240,
      "outputs": [
        {
          "output_type": "stream",
          "name": "stdout",
          "text": [
            "fatal: pathspec '/content/Push the current Jupyter Notebook to a specified Git repository.ipynb' did not match any files\n",
            "On branch master\n",
            "\n",
            "Initial commit\n",
            "\n",
            "Untracked files:\n",
            "  (use \"git add <file>...\" to include in what will be committed)\n",
            "\t\u001b[31m.config/\u001b[m\n",
            "\t\u001b[31msample_data/\u001b[m\n",
            "\n",
            "nothing added to commit but untracked files present (use \"git add\" to track)\n"
          ]
        }
      ]
    },
    {
      "cell_type": "markdown",
      "metadata": {
        "id": "82b10db7"
      },
      "source": [
        "**Reasoning**:\n",
        "The previous command failed because the notebook file path was incorrect. I need to identify the correct notebook file name and then add and commit it. Since the error message shows there are untracked files, I will try to add all untracked files to the staging area and commit.\n",
        "\n"
      ]
    }
  ]
}