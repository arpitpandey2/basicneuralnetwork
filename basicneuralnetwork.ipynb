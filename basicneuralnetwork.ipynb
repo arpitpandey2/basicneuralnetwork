{
  "nbformat": 4,
  "nbformat_minor": 0,
  "metadata": {
    "colab": {
      "provenance": [],
      "gpuType": "T4",
      "authorship_tag": "ABX9TyO5OdA2FHeMxnUVdZB4f6Ke",
      "include_colab_link": true
    },
    "kernelspec": {
      "name": "python3",
      "display_name": "Python 3"
    },
    "language_info": {
      "name": "python"
    }
  },
  "cells": [
    {
      "cell_type": "markdown",
      "metadata": {
        "id": "view-in-github",
        "colab_type": "text"
      },
      "source": [
        "<a href=\"https://colab.research.google.com/github/arpitpandey2/basicneuralnetwork/blob/main/basicneuralnetwork.ipynb\" target=\"_parent\"><img src=\"https://colab.research.google.com/assets/colab-badge.svg\" alt=\"Open In Colab\"/></a>"
      ]
    },
    {
      "cell_type": "code",
      "execution_count": 222,
      "metadata": {
        "id": "azfQgEyfHJi6"
      },
      "outputs": [],
      "source": [
        "import torch\n",
        "import torch.nn as nn\n",
        "import torch.nn.functional as f\n",
        "import matplotlib.pyplot as plt\n",
        "import pandas as pd\n",
        "%matplotlib inline"
      ]
    },
    {
      "cell_type": "code",
      "source": [
        "class Model(nn.Module):\n",
        "  def __init__(self,in_features=4,h1=8,h2=9,out_features=3):\n",
        "    super().__init__()\n",
        "    self.fc1= nn.Linear(in_features,h1)\n",
        "    self.fc2= nn.Linear(h1,h2)\n",
        "    self.out= nn.Linear(h2,out_features)\n",
        "\n",
        "  def forward(self,x):\n",
        "    x= f.relu(self.fc1(x))\n",
        "    x= f.relu(self.fc2(x))\n",
        "    x= self.out(x)\n",
        "\n",
        "    return x"
      ],
      "metadata": {
        "id": "KTU3RuqWHn-O"
      },
      "execution_count": 223,
      "outputs": []
    },
    {
      "cell_type": "code",
      "source": [
        "torch.manual_seed(30)\n",
        "mode1= Model()\n"
      ],
      "metadata": {
        "id": "pFavDYwdJraM"
      },
      "execution_count": 224,
      "outputs": []
    },
    {
      "cell_type": "code",
      "source": [
        "url= 'https://gist.githubusercontent.com/curran/a08a1080b88344b0c8a7/raw/0e7a9b0a5d22642a06d3d5b9bcbad9890c8ee534/iris.csv'\n",
        "my_df= pd.read_csv(url)\n",
        "my_df"
      ],
      "metadata": {
        "collapsed": true,
        "id": "xiUr7nNWIi4m"
      },
      "execution_count": null,
      "outputs": []
    },
    {
      "cell_type": "code",
      "source": [
        "my_df['species']=my_df['species'].replace('setosa',0.0)\n",
        "my_df['species']=my_df['species'].replace('versicolor',1.0)\n",
        "my_df['species']=my_df['species'].replace('virginica',2.0)\n",
        "my_df['species'] = my_df['species'].astype(int)\n",
        "my_df"
      ],
      "metadata": {
        "collapsed": true,
        "id": "pM2LwejvKtNb"
      },
      "execution_count": null,
      "outputs": []
    },
    {
      "cell_type": "code",
      "source": [
        "X=my_df.drop('species',axis=1)\n",
        "Y=my_df['species']\n",
        "x=X.values\n",
        "y=Y.values"
      ],
      "metadata": {
        "id": "KpMyjL-DL3ui"
      },
      "execution_count": 227,
      "outputs": []
    },
    {
      "cell_type": "code",
      "source": [
        "x\n",
        "y"
      ],
      "metadata": {
        "collapsed": true,
        "id": "Du2bjHVmMgr_"
      },
      "execution_count": null,
      "outputs": []
    },
    {
      "cell_type": "code",
      "source": [
        "from sklearn.model_selection import train_test_split\n"
      ],
      "metadata": {
        "id": "OQ-Odo8oMzeV"
      },
      "execution_count": 229,
      "outputs": []
    },
    {
      "cell_type": "code",
      "source": [
        "x_train,x_test,y_train,y_test= train_test_split(x,y,test_size=0.2, random_state=40)"
      ],
      "metadata": {
        "id": "mO-OEHr5PkIm"
      },
      "execution_count": 230,
      "outputs": []
    },
    {
      "cell_type": "code",
      "source": [
        "y_train.dtype"
      ],
      "metadata": {
        "id": "-N7d4yHMTiFN"
      },
      "execution_count": null,
      "outputs": []
    },
    {
      "cell_type": "code",
      "source": [
        "x_train=torch.FloatTensor(x_train)\n",
        "x_test=torch.FloatTensor(x_test)\n",
        "\n",
        "y_train=torch.LongTensor(y_train)\n",
        "y_test=torch.LongTensor(y_test)"
      ],
      "metadata": {
        "id": "f7bjGBzGQCR1"
      },
      "execution_count": 232,
      "outputs": []
    },
    {
      "cell_type": "code",
      "source": [
        "criterion= nn.CrossEntropyLoss()\n",
        "optimizer= torch.optim.Adam(mode1.parameters(), lr=0.01)"
      ],
      "metadata": {
        "id": "NoCP2YICQocJ"
      },
      "execution_count": 233,
      "outputs": []
    },
    {
      "cell_type": "code",
      "source": [
        "epochs=100\n",
        "losses=[]\n",
        "for i in range(epochs):\n",
        "  y_pred= mode1.forward(x_train)\n",
        "  loss= criterion(y_pred,y_train)\n",
        "  losses.append(loss.detach().numpy())\n",
        "\n",
        "  if i%10==0:\n",
        "    print(f\"Epoch: {i} and loss {loss}\")\n",
        "\n",
        "  # Backprop and optimize\n",
        "  optimizer.zero_grad()\n",
        "  loss.backward()\n",
        "  optimizer.step()"
      ],
      "metadata": {
        "id": "Iay7BTLERRRB"
      },
      "execution_count": null,
      "outputs": []
    },
    {
      "cell_type": "code",
      "source": [
        "plt.plot(range(epochs),losses)\n",
        "plt.ylabel('Loss')\n",
        "plt.xlabel('Epoch')"
      ],
      "metadata": {
        "id": "pMUrRxlkXY3A"
      },
      "execution_count": null,
      "outputs": []
    }
  ]
}